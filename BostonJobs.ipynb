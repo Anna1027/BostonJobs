{
 "cells": [
  {
   "cell_type": "code",
   "execution_count": null,
   "metadata": {},
   "outputs": [],
   "source": [
    "from bs4 import BeautifulSoup \n",
    "import requests\n",
    "import pandas as pd"
   ]
  },
  {
   "cell_type": "code",
   "execution_count": null,
   "metadata": {},
   "outputs": [],
   "source": [
    "url = \"https://boston.craigslist.org/search/npo\""
   ]
  },
  {
   "cell_type": "code",
   "execution_count": null,
   "metadata": {},
   "outputs": [],
   "source": [
    "#create a disctionary \n",
    "\n",
    "d = {'key' : 'value'}\n",
    "print(d)"
   ]
  },
  {
   "cell_type": "code",
   "execution_count": null,
   "metadata": {},
   "outputs": [],
   "source": [
    "#update the dictionary \n",
    "\n",
    "d ['new key'] = 'new value'\n",
    "print(d)"
   ]
  },
  {
   "cell_type": "code",
   "execution_count": null,
   "metadata": {},
   "outputs": [],
   "source": [
    "npo_jobs = {}\n",
    "job_no = 0\n",
    "\n",
    "while True:\n",
    "    \n",
    "    response = requests.get(url)\n",
    "    data = response.text\n",
    "    soup = BeautifulSoup(data, 'html.parser')\n",
    "    jobs = soup.find_all('p',{'class': 'result-info'})\n",
    "    \n",
    "    for job in jobs:\n",
    "        \n",
    "        title = job.find('a', {'class':'result-title'}).text\n",
    "        location_tag = job.find('span', {'class':'result-hood'})\n",
    "        location = location_tag.text[1:-1] if location_tag else \"N/A\"\n",
    "        data = job.find('time', {'class':'result-date'}).text\n",
    "        link = job.find('a',{'class':'result-title'}).get('href')\n",
    "        \n",
    "        job_response = requests.get(link)\n",
    "        job_data = job_response.text\n",
    "        job_soup = BeautifulSoup(job_data, 'html.parser')\n",
    "        job_description = job_soup.find('section',{'id':'postingbody'}).text\n",
    "        job_attributes_tag = job_soup.find('p',{'class':'attrgroup'})\n",
    "        job_attributes = job_attributes_tag.text if job_attributes_tag else \"N/A\"\n",
    "        \n",
    "        job_no+=1\n",
    "        npo_jobs[job_no] = [title, location, data, link, job_attributes, job_description]\n",
    "        \n",
    "       # print('Job Title:', title, '\\nLocation:', location, '\\nDate:', date,'\\nlink:', link, '\\n', Job Attributes:, '\\nJob Description:', job_description\n",
    "        \n",
    "    url_tag = soup.find('a',{'title':'next page'})\n",
    "    if url_tag.get('href'):\n",
    "        url='https://boston.craigslist.org' + url_tag.get('href')\n",
    "        print(url)\n",
    "    else:\n",
    "        break\n",
    "    \n",
    "    print(\"Total Jobs:\", job_no)\n",
    "    npo_jobs_df = pd.DataFrame.from_dict(npo_jobs, orient = 'index', columns = ['Job Title','Location','Date','Link','Job Attributes','Job Desciption'])\n",
    "    \n",
    "        \n",
    "        \n",
    "        "
   ]
  },
  {
   "cell_type": "code",
   "execution_count": 126,
   "metadata": {},
   "outputs": [
    {
     "name": "stdout",
     "output_type": "stream",
     "text": [
      "BostonJobs.ipynb annajoen.ipynb   exoneration.csv\r\n"
     ]
    }
   ],
   "source": [
    "!ls"
   ]
  },
  {
   "cell_type": "code",
   "execution_count": 128,
   "metadata": {},
   "outputs": [
    {
     "data": {
      "text/html": [
       "<div>\n",
       "<style scoped>\n",
       "    .dataframe tbody tr th:only-of-type {\n",
       "        vertical-align: middle;\n",
       "    }\n",
       "\n",
       "    .dataframe tbody tr th {\n",
       "        vertical-align: top;\n",
       "    }\n",
       "\n",
       "    .dataframe thead th {\n",
       "        text-align: right;\n",
       "    }\n",
       "</style>\n",
       "<table border=\"1\" class=\"dataframe\">\n",
       "  <thead>\n",
       "    <tr style=\"text-align: right;\">\n",
       "      <th></th>\n",
       "      <th>Job Title</th>\n",
       "      <th>Location</th>\n",
       "      <th>Date</th>\n",
       "      <th>Link</th>\n",
       "      <th>Job Attributes</th>\n",
       "      <th>Job Desciption</th>\n",
       "    </tr>\n",
       "  </thead>\n",
       "  <tbody>\n",
       "    <tr>\n",
       "      <td>1</td>\n",
       "      <td>Private Care Manager</td>\n",
       "      <td>(Waltham, MA</td>\n",
       "      <td>Nov 29</td>\n",
       "      <td>https://boston.craigslist.org/gbs/npo/d/waltha...</td>\n",
       "      <td>\\ncompensation: Competitive salary\\n\\nemployme...</td>\n",
       "      <td>\\n\\nQR Code Link to This Post\\n\\n\\nSpringwell ...</td>\n",
       "    </tr>\n",
       "    <tr>\n",
       "      <td>2</td>\n",
       "      <td>Community Health Worker</td>\n",
       "      <td>(Quincy, MA</td>\n",
       "      <td>Nov 29</td>\n",
       "      <td>https://boston.craigslist.org/sob/npo/d/quincy...</td>\n",
       "      <td>\\ncompensation: Competitive salary\\n\\nemployme...</td>\n",
       "      <td>\\n\\nQR Code Link to This Post\\n\\n\\nSpringwell ...</td>\n",
       "    </tr>\n",
       "    <tr>\n",
       "      <td>3</td>\n",
       "      <td>Part-Time Floating Nutrition Assistant</td>\n",
       "      <td>(Waltham, MA</td>\n",
       "      <td>Nov 29</td>\n",
       "      <td>https://boston.craigslist.org/gbs/npo/d/waltha...</td>\n",
       "      <td>\\ncompensation: $15.00/hour\\n\\nemployment type...</td>\n",
       "      <td>\\n\\nQR Code Link to This Post\\n\\n\\nSpringwell ...</td>\n",
       "    </tr>\n",
       "    <tr>\n",
       "      <td>4</td>\n",
       "      <td>Part-Time Dining Site Assistant, $15/hour</td>\n",
       "      <td>(Waltham, MA</td>\n",
       "      <td>Nov 29</td>\n",
       "      <td>https://boston.craigslist.org/gbs/npo/d/waltha...</td>\n",
       "      <td>\\ncompensation: $15.00/hour\\n\\nemployment type...</td>\n",
       "      <td>\\n\\nQR Code Link to This Post\\n\\n\\nCommunity N...</td>\n",
       "    </tr>\n",
       "    <tr>\n",
       "      <td>5</td>\n",
       "      <td>Part-Time Home Delivered Meals Drivers, $15/hour</td>\n",
       "      <td>(Waltham, MA</td>\n",
       "      <td>Nov 29</td>\n",
       "      <td>https://boston.craigslist.org/gbs/npo/d/waltha...</td>\n",
       "      <td>\\ncompensation: $15.00/hour\\n\\nemployment type...</td>\n",
       "      <td>\\n\\nQR Code Link to This Post\\n\\n\\nLooking to ...</td>\n",
       "    </tr>\n",
       "  </tbody>\n",
       "</table>\n",
       "</div>"
      ],
      "text/plain": [
       "                                          Job Title      Location    Date  \\\n",
       "1                              Private Care Manager  (Waltham, MA  Nov 29   \n",
       "2                           Community Health Worker   (Quincy, MA  Nov 29   \n",
       "3            Part-Time Floating Nutrition Assistant  (Waltham, MA  Nov 29   \n",
       "4         Part-Time Dining Site Assistant, $15/hour  (Waltham, MA  Nov 29   \n",
       "5  Part-Time Home Delivered Meals Drivers, $15/hour  (Waltham, MA  Nov 29   \n",
       "\n",
       "                                                Link  \\\n",
       "1  https://boston.craigslist.org/gbs/npo/d/waltha...   \n",
       "2  https://boston.craigslist.org/sob/npo/d/quincy...   \n",
       "3  https://boston.craigslist.org/gbs/npo/d/waltha...   \n",
       "4  https://boston.craigslist.org/gbs/npo/d/waltha...   \n",
       "5  https://boston.craigslist.org/gbs/npo/d/waltha...   \n",
       "\n",
       "                                      Job Attributes  \\\n",
       "1  \\ncompensation: Competitive salary\\n\\nemployme...   \n",
       "2  \\ncompensation: Competitive salary\\n\\nemployme...   \n",
       "3  \\ncompensation: $15.00/hour\\n\\nemployment type...   \n",
       "4  \\ncompensation: $15.00/hour\\n\\nemployment type...   \n",
       "5  \\ncompensation: $15.00/hour\\n\\nemployment type...   \n",
       "\n",
       "                                      Job Desciption  \n",
       "1  \\n\\nQR Code Link to This Post\\n\\n\\nSpringwell ...  \n",
       "2  \\n\\nQR Code Link to This Post\\n\\n\\nSpringwell ...  \n",
       "3  \\n\\nQR Code Link to This Post\\n\\n\\nSpringwell ...  \n",
       "4  \\n\\nQR Code Link to This Post\\n\\n\\nCommunity N...  \n",
       "5  \\n\\nQR Code Link to This Post\\n\\n\\nLooking to ...  "
      ]
     },
     "execution_count": 128,
     "metadata": {},
     "output_type": "execute_result"
    }
   ],
   "source": [
    "npo_jobs_df.head()"
   ]
  },
  {
   "cell_type": "code",
   "execution_count": 129,
   "metadata": {},
   "outputs": [],
   "source": [
    "npo_jobs_df.to_csv('npo_jobs.csv')"
   ]
  },
  {
   "cell_type": "code",
   "execution_count": null,
   "metadata": {},
   "outputs": [],
   "source": []
  },
  {
   "cell_type": "code",
   "execution_count": null,
   "metadata": {},
   "outputs": [],
   "source": []
  }
 ],
 "metadata": {
  "kernelspec": {
   "display_name": "Python 3",
   "language": "python",
   "name": "python3"
  },
  "language_info": {
   "codemirror_mode": {
    "name": "ipython",
    "version": 3
   },
   "file_extension": ".py",
   "mimetype": "text/x-python",
   "name": "python",
   "nbconvert_exporter": "python",
   "pygments_lexer": "ipython3",
   "version": "3.7.4"
  }
 },
 "nbformat": 4,
 "nbformat_minor": 2
}
